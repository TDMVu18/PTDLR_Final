{
 "cells": [
  {
   "cell_type": "code",
   "execution_count": 1,
   "metadata": {},
   "outputs": [],
   "source": [
    "import pandas as pd"
   ]
  },
  {
   "cell_type": "code",
   "execution_count": 2,
   "metadata": {},
   "outputs": [
    {
     "name": "stdout",
     "output_type": "stream",
     "text": [
      "                    0              1           2         3\n",
      "0            Quoc Gia         Dan So  Ti Le Sinh  % Dan So\n",
      "1               China  1,439,323,776         1.7   18.47 %\n",
      "2               India  1,380,004,385         2.2   17.70 %\n",
      "3       United States    331,002,651         1.8    4.25 %\n",
      "4           Indonesia    273,523,615         2.3    3.51 %\n",
      "..                ...            ...         ...       ...\n",
      "231        Montserrat          4,992        N.A.    0.00 %\n",
      "232  Falkland Islands          3,480        N.A.    0.00 %\n",
      "233              Niue          1,626        N.A.    0.00 %\n",
      "234           Tokelau          1,357        N.A.    0.00 %\n",
      "235          Holy See            801        N.A.    0.00 %\n",
      "\n",
      "[236 rows x 4 columns]\n"
     ]
    }
   ],
   "source": [
    "xl = pd.ExcelFile('population2.xlsx')\n",
    "df = pd.read_excel(xl, 0, header=None)\n",
    "print(df)"
   ]
  },
  {
   "cell_type": "code",
   "execution_count": 3,
   "metadata": {},
   "outputs": [
    {
     "name": "stdout",
     "output_type": "stream",
     "text": [
      "[1.7, 2.2, 1.8, 2.3, 3.6, 1.7, 5.4, 2.1, 1.8, 2.1, 1.4, 4.3, 2.6, 3.3, 2.1, 6.0, 2.1, 2.2, 1.6, 1.5, 1.8, 1.9, 1.3, 4.9, 2.4, 2.2, 3.5, 1.1, 1.8, 1.3, 5.0, 2.3, 3.1, 4.4, 1.4, 3.7, 4.6, 1.4, 1.5, 2.4, 2.3, 2.4, 2.3, 5.6, 2.0, 4.9, 3.9, 3.8, 1.9, 2.3, 4.1, 4.6, 4.7, 1.9, 1.8, 7.0, 1.2, 2.2, 5.2, 5.9, 1.6, 4.3, 1.7, 2.8, 4.7, 2.9, 2.4, 2.8, 1.7, 4.7, 2.5, 5.8, 6.1, 3.6, 4.7, 4.1, 4.9, 5.5, 2.2, 2.8, 1.7, 3.0, 1.6, 4.7, 2.4, 1.6, 1.3, 2.8, 1.3, 2.1, 1.9, 2.5, 1.4, 1.5, 3.6, 1.7, 1.5, 3.6, 1.5, 3.0, 1.5, 4.4, 4.3, 1.3, 2.7, 2.4, 1.6, 2.3, 2.1, 2.4, 3.0, 2.1, 2.8, 1.2, 1.8, 1.5, 4.5, 1.5, 1.7, 2.9, 3.7, 1.8, 4.4, 1.8, 4.8, 1.9, 4.6, 2.5, 2.1, 1.4, 1.3, 2.1, 4.1, 2.0, 1.3, 2.9, 1.8, 2.0, 1.9, 1.6, 1.2, 1.7, 3.4, 5.3, 2.9, 4.0, 3.2, 1.5, 1.6, 4.5, 1.7, 2.0, 4.6, 1.7, 1.6, 4.1, 1.4, 1.3, 3.0, 2.8, 2.8, 2.3, 4.2, 2.5, 2.0, 4.4, 1.2, 1.8, 1.5, 2.4, 2.4, 2.3, 2.9, 1.9, 1.5, 1.8, 2.2, 2.3, 1.8, 1.9, 1.8, 3.8, 3.4, 1.6, 2.0, 2.0, 3.7, 4.4, 3.9, 1.4, 1.5, 2.3, 1.8, 3.6, 2.1, 1.9, 1.9, 3.6, 2.0, 2.5, 2.0]\n",
      "[1439323776, 1380004385, 331002651, 273523615, 220892340, 212559417, 206139589, 164689383, 145934462, 128932753, 126476461, 114963588, 109581078, 102334404, 97338579, 89561403, 84339067, 83992949, 83783942, 69799978, 67886011, 65273511, 60461826, 59734218, 59308690, 54409800, 53771296, 51269185, 50882891, 46754778, 45741007, 45195774, 43851044, 43849260, 43733762, 40222493, 38928346, 37846611, 37742154, 36910560, 34813871, 33469203, 32971854, 32866272, 32365999, 31255435, 31072940, 29825964, 29136808, 28435940, 27691018, 26545863, 26378274, 25778816, 25499884, 24206644, 23816775, 21413249, 20903273, 20250833, 19237691, 19129952, 19116201, 18776707, 18383955, 17915568, 17643054, 17500658, 17134872, 16743927, 16718965, 16425864, 15893222, 14862924, 13132795, 12952218, 12123200, 11890784, 11818619, 11673021, 11589623, 11402528, 11326616, 11193725, 10847910, 10708981, 10423054, 10203134, 10196709, 10139177, 10099265, 9904607, 9890402, 9660351, 9537645, 9449323, 9006398, 8947024, 8737371, 8655535, 8654622, 8278724, 7976983, 7496981, 7275560, 7132538, 6948445, 6871292, 6825445, 6624554, 6524195, 6486205, 6031200, 5850342, 5792202, 5540720, 5518087, 5459642, 5421241, 5106626, 5101414, 5094118, 5057681, 4937786, 4829767, 4822233, 4649658, 4314767, 4270571, 4105267, 4033963, 3989167, 3546421, 3473730, 3280819, 3278290, 2963243, 2961167, 2881053, 2877797, 2860853, 2722289, 2540905, 2416668, 2351627, 2225734, 2142249, 2083374, 2078938, 1968001, 1886198, 1701575, 1402985, 1399488, 1326535, 1318445, 1271768, 1207359, 1160164, 988000, 896445, 895312, 869601, 786552, 771608, 686884, 649335, 628066, 625978, 597339, 586632, 555987, 548914, 540544, 441543, 437479, 400124, 397628, 393244, 375265, 341243, 307145, 298682, 287375, 285498, 280908, 272815, 219159, 198414, 183627, 173863, 168775, 164093, 119449, 112523, 110940, 106766, 105695, 104425, 98347, 97929]\n",
      "[0.18469999999999998, 0.177, 0.0425, 0.0351, 0.028300000000000002, 0.0273, 0.0264, 0.021099999999999997, 0.0187, 0.0165, 0.016200000000000003, 0.0147, 0.0141, 0.0131, 0.0125, 0.0115, 0.0108, 0.0108, 0.010700000000000001, 0.009000000000000001, 0.0087, 0.0084, 0.0078000000000000005, 0.0077, 0.0076, 0.006999999999999999, 0.0069, 0.0066, 0.006500000000000001, 0.006, 0.0059, 0.0058, 0.005600000000000001, 0.005600000000000001, 0.005600000000000001, 0.0052, 0.005, 0.0049, 0.0048, 0.004699999999999999, 0.0045000000000000005, 0.0043, 0.0042, 0.0042, 0.0042, 0.004, 0.004, 0.0038, 0.0037, 0.0036, 0.0036, 0.0034000000000000002, 0.0034000000000000002, 0.0033, 0.0033, 0.0031, 0.0031, 0.0027, 0.0027, 0.0026, 0.0025, 0.0025, 0.0025, 0.0024, 0.0024, 0.0023, 0.0023, 0.0022, 0.0022, 0.0021, 0.0021, 0.0021, 0.002, 0.0019, 0.0017000000000000001, 0.0017000000000000001, 0.0016, 0.0015, 0.0015, 0.0015, 0.0015, 0.0015, 0.0015, 0.0014000000000000002, 0.0014000000000000002, 0.0014000000000000002, 0.0013, 0.0013, 0.0013, 0.0013, 0.0013, 0.0013, 0.0013, 0.0012, 0.0012, 0.0012, 0.0012, 0.0011, 0.0011, 0.0011, 0.0011, 0.0011, 0.001, 0.001, 0.0009, 0.0009, 0.0009, 0.0009, 0.0009, 0.0008, 0.0008, 0.0008, 0.0008, 0.0008, 0.0007000000000000001, 0.0007000000000000001, 0.0007000000000000001, 0.0007000000000000001, 0.0007000000000000001, 0.0007000000000000001, 0.0007000000000000001, 0.0007000000000000001, 0.0006, 0.0006, 0.0006, 0.0006, 0.0006, 0.0006, 0.0005, 0.0005, 0.0005, 0.0005, 0.0005, 0.0004, 0.0004, 0.0004, 0.0004, 0.0004, 0.0004, 0.0004, 0.0004, 0.0003, 0.0003, 0.0003, 0.0003, 0.0003, 0.0003, 0.0003, 0.0003, 0.0003, 0.0002, 0.0002, 0.0002, 0.0002, 0.0002, 0.0002, 0.0002, 0.0002, 0.0001, 0.0001, 0.0001, 0.0001, 0.0001, 0.0001, 0.0001, 0.0001, 0.0001, 0.0001, 0.0001, 0.0001, 0.0001, 0.0001, 0.0001, 0.0001, 0.0001, 0.0001, 0.0001, 0.0001, 0.0001, 0.0, 0.0, 0.0, 0.0, 0.0, 0.0, 0.0, 0.0, 0.0, 0.0, 0.0, 0.0, 0.0, 0.0, 0.0, 0.0, 0.0, 0.0, 0.0, 0.0, 0.0, 0.0]\n",
      "['China', 'India', 'United States', 'Indonesia', 'Pakistan', 'Brazil', 'Nigeria', 'Bangladesh', 'Russia', 'Mexico', 'Japan', 'Ethiopia', 'Philippines', 'Egypt', 'Vietnam', 'DR Congo', 'Turkey', 'Iran', 'Germany', 'Thailand', 'United Kingdom', 'France', 'Italy', 'Tanzania', 'South Africa', 'Myanmar', 'Kenya', 'South Korea', 'Colombia', 'Spain', 'Uganda', 'Argentina', 'Algeria', 'Sudan', 'Ukraine', 'Iraq', 'Afghanistan', 'Poland', 'Canada', 'Morocco', 'Saudi Arabia', 'Uzbekistan', 'Peru', 'Angola', 'Malaysia', 'Mozambique', 'Ghana', 'Yemen', 'Nepal', 'Venezuela', 'Madagascar', 'Cameroon', \"Côte d'Ivoire\", 'North Korea', 'Australia', 'Niger', 'Taiwan', 'Sri Lanka', 'Burkina Faso', 'Mali', 'Romania', 'Malawi', 'Chile', 'Kazakhstan', 'Zambia', 'Guatemala', 'Ecuador', 'Syria', 'Netherlands', 'Senegal', 'Cambodia', 'Chad', 'Somalia', 'Zimbabwe', 'Guinea', 'Rwanda', 'Benin', 'Burundi', 'Tunisia', 'Bolivia', 'Belgium', 'Haiti', 'Cuba', 'South Sudan', 'Dominican Republic', 'Czech Republic (Czechia)', 'Greece', 'Jordan', 'Portugal', 'Azerbaijan', 'Sweden', 'Honduras', 'United Arab Emirates', 'Hungary', 'Tajikistan', 'Belarus', 'Austria', 'Papua New Guinea', 'Serbia', 'Israel', 'Switzerland', 'Togo', 'Sierra Leone', 'Hong Kong', 'Laos', 'Paraguay', 'Bulgaria', 'Libya', 'Lebanon', 'Nicaragua', 'Kyrgyzstan', 'El Salvador', 'Turkmenistan', 'Singapore', 'Denmark', 'Finland', 'Congo', 'Slovakia', 'Norway', 'Oman', 'State of Palestine', 'Costa Rica', 'Liberia', 'Ireland', 'Central African Republic', 'New Zealand', 'Mauritania', 'Panama', 'Kuwait', 'Croatia', 'Moldova', 'Georgia', 'Eritrea', 'Uruguay', 'Bosnia and Herzegovina', 'Mongolia', 'Armenia', 'Jamaica', 'Qatar', 'Albania', 'Puerto Rico', 'Lithuania', 'Namibia', 'Gambia', 'Botswana', 'Gabon', 'Lesotho', 'North Macedonia', 'Slovenia', 'Guinea-Bissau', 'Latvia', 'Bahrain', 'Equatorial Guinea', 'Trinidad and Tobago', 'Estonia', 'Timor-Leste', 'Mauritius', 'Cyprus', 'Eswatini', 'Djibouti', 'Fiji', 'Réunion', 'Comoros', 'Guyana', 'Bhutan', 'Solomon Islands', 'Macao', 'Montenegro', 'Luxembourg', 'Western Sahara', 'Suriname', 'Cabo Verde', 'Micronesia', 'Maldives', 'Malta', 'Brunei', 'Guadeloupe', 'Belize', 'Bahamas', 'Martinique', 'Iceland', 'Vanuatu', 'French Guiana', 'Barbados', 'New Caledonia', 'French Polynesia', 'Mayotte', 'Sao Tome & Principe', 'Samoa', 'Saint Lucia', 'Channel Islands', 'Guam', 'Curaçao', 'Kiribati', 'Grenada', 'St. Vincent & Grenadines', 'Aruba', 'Tonga', 'U.S. Virgin Islands', 'Seychelles', 'Antigua and Barbuda']\n"
     ]
    }
   ],
   "source": [
    "row_non = len(df.iloc[:, 0])\n",
    "list1=[]\n",
    "list2=[]\n",
    "list3=[]\n",
    "list4=[]\n",
    "\n",
    "for i in range(1,row_non):\n",
    "    a = df.iat[i,2]\n",
    "    if a != \"N.A.\":\n",
    "        list2.append(float(a))\n",
    "print(list2)\n",
    "\n",
    "row = len(list2)\n",
    "\n",
    "for i in range(1,row+1):\n",
    "    a = df.iat[i,1]\n",
    "    b = a.replace(\",\",\"\")\n",
    "    list1.append(int(b))\n",
    "print(list1)\n",
    "\n",
    "for i in range(1,row+1):\n",
    "    a = df.iat[i,3]\n",
    "    b = a.replace(\" %\",\"\")\n",
    "    list3.append(float(b)/100)\n",
    "print(list3)\n",
    "\n",
    "for i in range(1,row+1):\n",
    "    a = df.iat[i,0]\n",
    "    list4.append(a)\n",
    "print(list4)"
   ]
  },
  {
   "cell_type": "code",
   "execution_count": 4,
   "metadata": {},
   "outputs": [
    {
     "data": {
      "text/html": [
       "<div>\n",
       "<style scoped>\n",
       "    .dataframe tbody tr th:only-of-type {\n",
       "        vertical-align: middle;\n",
       "    }\n",
       "\n",
       "    .dataframe tbody tr th {\n",
       "        vertical-align: top;\n",
       "    }\n",
       "\n",
       "    .dataframe thead th {\n",
       "        text-align: right;\n",
       "    }\n",
       "</style>\n",
       "<table border=\"1\" class=\"dataframe\">\n",
       "  <thead>\n",
       "    <tr style=\"text-align: right;\">\n",
       "      <th></th>\n",
       "      <th>Country</th>\n",
       "      <th>Population</th>\n",
       "      <th>Yearly Change</th>\n",
       "      <th>World Share</th>\n",
       "    </tr>\n",
       "  </thead>\n",
       "  <tbody>\n",
       "    <tr>\n",
       "      <th>0</th>\n",
       "      <td>China</td>\n",
       "      <td>1439323776</td>\n",
       "      <td>1.7</td>\n",
       "      <td>0.1847</td>\n",
       "    </tr>\n",
       "    <tr>\n",
       "      <th>1</th>\n",
       "      <td>India</td>\n",
       "      <td>1380004385</td>\n",
       "      <td>2.2</td>\n",
       "      <td>0.1770</td>\n",
       "    </tr>\n",
       "    <tr>\n",
       "      <th>2</th>\n",
       "      <td>United States</td>\n",
       "      <td>331002651</td>\n",
       "      <td>1.8</td>\n",
       "      <td>0.0425</td>\n",
       "    </tr>\n",
       "    <tr>\n",
       "      <th>3</th>\n",
       "      <td>Indonesia</td>\n",
       "      <td>273523615</td>\n",
       "      <td>2.3</td>\n",
       "      <td>0.0351</td>\n",
       "    </tr>\n",
       "    <tr>\n",
       "      <th>4</th>\n",
       "      <td>Pakistan</td>\n",
       "      <td>220892340</td>\n",
       "      <td>3.6</td>\n",
       "      <td>0.0283</td>\n",
       "    </tr>\n",
       "    <tr>\n",
       "      <th>...</th>\n",
       "      <td>...</td>\n",
       "      <td>...</td>\n",
       "      <td>...</td>\n",
       "      <td>...</td>\n",
       "    </tr>\n",
       "    <tr>\n",
       "      <th>196</th>\n",
       "      <td>Aruba</td>\n",
       "      <td>106766</td>\n",
       "      <td>1.9</td>\n",
       "      <td>0.0000</td>\n",
       "    </tr>\n",
       "    <tr>\n",
       "      <th>197</th>\n",
       "      <td>Tonga</td>\n",
       "      <td>105695</td>\n",
       "      <td>3.6</td>\n",
       "      <td>0.0000</td>\n",
       "    </tr>\n",
       "    <tr>\n",
       "      <th>198</th>\n",
       "      <td>U.S. Virgin Islands</td>\n",
       "      <td>104425</td>\n",
       "      <td>2.0</td>\n",
       "      <td>0.0000</td>\n",
       "    </tr>\n",
       "    <tr>\n",
       "      <th>199</th>\n",
       "      <td>Seychelles</td>\n",
       "      <td>98347</td>\n",
       "      <td>2.5</td>\n",
       "      <td>0.0000</td>\n",
       "    </tr>\n",
       "    <tr>\n",
       "      <th>200</th>\n",
       "      <td>Antigua and Barbuda</td>\n",
       "      <td>97929</td>\n",
       "      <td>2.0</td>\n",
       "      <td>0.0000</td>\n",
       "    </tr>\n",
       "  </tbody>\n",
       "</table>\n",
       "<p>201 rows × 4 columns</p>\n",
       "</div>"
      ],
      "text/plain": [
       "                 Country  Population  Yearly Change  World Share\n",
       "0                  China  1439323776            1.7       0.1847\n",
       "1                  India  1380004385            2.2       0.1770\n",
       "2          United States   331002651            1.8       0.0425\n",
       "3              Indonesia   273523615            2.3       0.0351\n",
       "4               Pakistan   220892340            3.6       0.0283\n",
       "..                   ...         ...            ...          ...\n",
       "196                Aruba      106766            1.9       0.0000\n",
       "197                Tonga      105695            3.6       0.0000\n",
       "198  U.S. Virgin Islands      104425            2.0       0.0000\n",
       "199           Seychelles       98347            2.5       0.0000\n",
       "200  Antigua and Barbuda       97929            2.0       0.0000\n",
       "\n",
       "[201 rows x 4 columns]"
      ]
     },
     "execution_count": 4,
     "metadata": {},
     "output_type": "execute_result"
    }
   ],
   "source": [
    "popdict = {\"Country\":list4, \"Population\" :list1, \"Yearly Change\": list2, \"World Share\":list3}\n",
    "popdf = pd.DataFrame(popdict,index=None)\n",
    "popdf"
   ]
  },
  {
   "cell_type": "code",
   "execution_count": 5,
   "metadata": {},
   "outputs": [],
   "source": [
    "popdf.to_csv('popconvert2.csv')"
   ]
  }
 ],
 "metadata": {
  "interpreter": {
   "hash": "11f1dc213e07634baa4c5c321dec03c05dafae643c50f20e6d1a492290c05dc2"
  },
  "kernelspec": {
   "display_name": "Python 3.9.1 64-bit",
   "language": "python",
   "name": "python3"
  },
  "language_info": {
   "codemirror_mode": {
    "name": "ipython",
    "version": 3
   },
   "file_extension": ".py",
   "mimetype": "text/x-python",
   "name": "python",
   "nbconvert_exporter": "python",
   "pygments_lexer": "ipython3",
   "version": "3.9.1"
  },
  "orig_nbformat": 4
 },
 "nbformat": 4,
 "nbformat_minor": 2
}
